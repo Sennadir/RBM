{
 "cells": [
  {
   "cell_type": "markdown",
   "metadata": {},
   "source": [
    "# Loading Data"
   ]
  },
  {
   "cell_type": "code",
   "execution_count": 1,
   "metadata": {},
   "outputs": [],
   "source": [
    "# Libraries\n",
    "import pandas as pd\n",
    "import numpy as np\n",
    "\n",
    "import scipy.io as sio\n",
    "\n",
    "import matplotlib.pyplot as plt"
   ]
  },
  {
   "cell_type": "code",
   "execution_count": 2,
   "metadata": {},
   "outputs": [
    {
     "data": {
      "text/plain": [
       "<matplotlib.image.AxesImage at 0x1142eabe0>"
      ]
     },
     "execution_count": 2,
     "metadata": {},
     "output_type": "execute_result"
    },
    {
     "data": {
      "image/png": "[encoded data removed]",
      "text/plain": [
       "<Figure size 432x288 with 1 Axes>"
      ]
     },
     "metadata": {
      "needs_background": "light"
     },
     "output_type": "display_data"
    }
   ],
   "source": [
    "# Loading Data \n",
    "mat_contents = sio.loadmat('./Data/binaryalphadigs.mat')\n",
    "plt.imshow(mat_contents['dat'][3][0], cmap='gray')"
   ]
  },
  {
   "cell_type": "code",
   "execution_count": 3,
   "metadata": {},
   "outputs": [],
   "source": [
    "def lire_alphaDigits(class_labels, all_data):\n",
    "    \"\"\"\n",
    "        The following function aims to extract from our dataset the part corresponding the class_labels that we \n",
    "        wish to extract. It also help put in order the output matrix to be directly used with our algorithm.\n",
    "        \n",
    "        ---\n",
    "        Parameters:\n",
    "            class_labels : n_array (n, )\n",
    "                            A vector containing the labels that we wish to extract\n",
    "            all_data : matrix\n",
    "                            Our data set (In the form of a Dictionnary -- extracted from a Matlab Matrix(.mat))\n",
    "        \n",
    "        ---\n",
    "        Attributes:\n",
    "            \n",
    "    \"\"\"\n",
    "    \n",
    "    \n",
    "    final = []\n",
    "    for elements in class_labels:\n",
    "        temp = np.array([all_data[elements][i].flatten() for i in range(len(all_data[elements]))])\n",
    "        final.append(temp)\n",
    "\n",
    "    return np.concatenate(final)"
   ]
  },
  {
   "cell_type": "markdown",
   "metadata": {},
   "source": [
    "# RBM Initialization"
   ]
  },
  {
   "cell_type": "code",
   "execution_count": 4,
   "metadata": {},
   "outputs": [],
   "source": [
    "q = 100\n",
    "p = 320\n",
    "class RBM():\n",
    "    \n",
    "    \"\"\"\n",
    "    This class represents our Restricted Boltzman Machine Structure. It contains the differents weights and biais\n",
    "    for both layers that we will be using. \n",
    "    \n",
    "    \n",
    "    ---\n",
    "    Parameters:\n",
    "        p : int (1,)\n",
    "            The number of neurons in the first layer representing the Latent variables\n",
    "            \n",
    "        q : int (1,)\n",
    "            The number f neurons in the second layer representing the Hidden variables\n",
    "    \n",
    "    \"\"\"\n",
    "    def __init__(self, p, q):\n",
    "        self.W = np.random.normal(0, 0.01, (p, q))\n",
    "        self.a = np.zeros(p)\n",
    "        self.b = np.zeros(q)\n",
    "        \n",
    "    def update_values(self, val):\n",
    "        \n",
    "        \"\"\"\n",
    "        This function aims to help updating the different parameters during the training part. \n",
    "        The user have to give as an input a vector of values to be updated (In our case, it's gonna be \n",
    "        the gradient)\n",
    "        \n",
    "        --- \n",
    "        Parameters :\n",
    "            val : vector (3,)\n",
    "                    Containing the correspondant value to be updated (The gradient in respect to each parameter)\n",
    "        \n",
    "        \"\"\"\n",
    "        \n",
    "        self.W += val[0]\n",
    "        self.a += val[1]\n",
    "        self.b += val[2]\n",
    "        \n",
    "    def print(self):\n",
    "        print(self.W, self.a, self.b)"
   ]
  },
  {
   "cell_type": "code",
   "execution_count": 5,
   "metadata": {},
   "outputs": [],
   "source": [
    "def entree_sortie_RBM(RBM, donnee):\n",
    "    \"\"\"\n",
    "    This function returns the output value of each part of our layer.\n",
    "    We recall that we have found in the theoritical computation that : \n",
    "    P(h_j = 1 | v) = sigm(b_j + \\sum{w_{i,j} v_i}) with v being our observed variables and h our latent variables\n",
    "    and w the matrix of weights and the biais of the first output layer.\n",
    "    \n",
    "    ---\n",
    "    Parameters:\n",
    "        RBM : class\n",
    "                Our RBM structure that was previously coded as our class\n",
    "        donnee : \n",
    "                Our data\n",
    "    \n",
    "    \"\"\"\n",
    "    \n",
    "    sortie = 1 / (1 + np.exp(- RBM.b.reshape(1,-1) - donnee @ RBM.W ))\n",
    "    \n",
    "    return sortie"
   ]
  },
  {
   "cell_type": "code",
   "execution_count": 6,
   "metadata": {},
   "outputs": [],
   "source": [
    "def sortie_entree_RBM(RBM, donnee):\n",
    "    \n",
    "    \"\"\"\n",
    "    This function returns the output value of each part of our layer.\n",
    "    We recall that we have found in the theoritical computation that : \n",
    "    P(v_i = 1 | h) = sigm(a_i + \\sum{w_{i,j} h_j}) with v being our observed variables and h our latent variables\n",
    "    and w the matrix of weights and the biais of the first output layer.\n",
    "    \n",
    "    ---\n",
    "    Parameters:\n",
    "        RBM : class\n",
    "                Our RBM structure that was previously coded as our class\n",
    "        donnee : \n",
    "                Our data\n",
    "    \n",
    "    \"\"\"\n",
    "    \n",
    "    entree = 1 / (1 + np.exp(- RBM.a.reshape(1,-1) - donnee @ RBM.W.T))\n",
    "                  \n",
    "    return entree"
   ]
  },
  {
   "cell_type": "code",
   "execution_count": 7,
   "metadata": {},
   "outputs": [],
   "source": [
    "def train_RBM(RBM, x, iter_gradient, epsilon, batch_size, verbose = False):\n",
    "    \n",
    "    \"\"\"\n",
    "        This function aims to compute the training part of our algorithm. \n",
    "        We recall that the goal is to maximize our Maximum-Vraisemblance, we first start by computing the gradient\n",
    "        in respect to each parameter and then use an optimization approch to update our parameters. \n",
    "        \n",
    "        We will be using the Gibbs Sampling approach to estimate the second term of the gradient which is related\n",
    "        to the expectancy. \n",
    "        \n",
    "        \n",
    "        ---\n",
    "        Parameters:\n",
    "            RBM :\n",
    "                    Our RBM structure\n",
    "            x : matrix (num_of_samples, p)\n",
    "                    Our Observed variables (It will be the result of the lire_alphaDigits function \n",
    "                    that was previously coded)\n",
    "                \n",
    "            iter_gradient: int (1, )\n",
    "                    The number of iteration during the optimization process\n",
    "            \n",
    "            epsilon : int (1, )\n",
    "                    The learning rate \n",
    "                    \n",
    "            batch_size : int (1,)\n",
    "                    The batch size to be used during the training\n",
    "                    \n",
    "            verbose : BOOL\n",
    "                    Parameter controlling weather the user want to output the values during the optimization part.\n",
    "            \n",
    "\n",
    "    \"\"\"\n",
    "    \n",
    "    p,q = RBM.W.shape\n",
    "    n = x.shape[0]\n",
    "    for i in range(iter_gradient):\n",
    "        x_copy = x.copy()\n",
    "        np.random.shuffle(x_copy)\n",
    "        \n",
    "        for batch in range(0, n, batch_size):\n",
    "            \n",
    "            v_0 = x_copy[batch : min(batch + batch_size, n), :]\n",
    "            h_0 = (np.random.uniform(size = (len(v_0), q)) < entree_sortie_RBM(RBM, v_0)).astype('float')\n",
    "            v_1 = (np.random.uniform(size = (len(v_0), p)) < sortie_entree_RBM(RBM, h_0)).astype('float')\n",
    "            \n",
    "            # Gradient compilation\n",
    "            d_a = np.sum(v_0 - v_1, axis = 0)\n",
    "            d_b = np.sum(entree_sortie_RBM(RBM, v_0) - entree_sortie_RBM(RBM, v_1), axis = 0)\n",
    "            d_W = np.dot(v_0.T, entree_sortie_RBM(RBM, v_0)) - np.dot(v_1.T, entree_sortie_RBM(RBM, v_1))\n",
    "            \n",
    "            cst = epsilon/len(v_0)\n",
    "            RBM.update_values([cst * d_W, cst * d_a, cst *d_b])\n",
    "        \n",
    "        sortie = entree_sortie_RBM(RBM, x_copy)\n",
    "        new_data = sortie_entree_RBM(RBM, sortie)\n",
    "        erreur = np.linalg.norm(x_copy - new_data, ord='fro')**2 / x_copy.size\n",
    "        if verbose:\n",
    "            print(erreur)\n",
    "    return RBM"
   ]
  },
  {
   "cell_type": "code",
   "execution_count": 8,
   "metadata": {},
   "outputs": [],
   "source": [
    "def generate_image_RBM(RBM, nb_images, nb_iter):\n",
    "    \n",
    "    \"\"\"\n",
    "    Using our RBM, the following function uses the different weights that were already updated to generate new \n",
    "    samples. \n",
    "    \n",
    "    ---\n",
    "    Parameters:\n",
    "        RBM : \n",
    "                Our RBM class with the weights already trained and updated\n",
    "        nb_images : int (1,)\n",
    "                The number of samples that we want to generate\n",
    "                \n",
    "        nb_iter : int (1,)\n",
    "                The number of iterations used during the generation\n",
    "    \n",
    "    \"\"\"\n",
    "    \n",
    "    p,q = RBM.W.shape\n",
    "    for i in range(nb_images):\n",
    "        x = (np.random.uniform(size=p) < 0.5).astype('float')\n",
    "        \n",
    "        for iter in range(nb_iter):\n",
    "            h = (np.random.uniform(size = q) < entree_sortie_RBM(RBM, x)).astype('float')\n",
    "            x = (np.random.uniform(size = p) < sortie_entree_RBM(RBM, h)).astype('float')\n",
    "        \n",
    "        x =  np.reshape(x, (20, 16))\n",
    "        plt.imshow(x, cmap = 'gray')\n",
    "        plt.show()"
   ]
  },
  {
   "cell_type": "markdown",
   "metadata": {},
   "source": [
    "# Generating Samples"
   ]
  },
  {
   "cell_type": "code",
   "execution_count": 14,
   "metadata": {
    "scrolled": true
   },
   "outputs": [],
   "source": [
    "x = lire_alphaDigits([3], mat_contents['dat'])\n",
    "iter_gradient = 1000\n",
    "epsilon = 0.1\n",
    "batch_size = 3\n",
    "rbm = RBM(320, 100)\n",
    "rbm = train_RBM(rbm, x, iter_gradient, epsilon, batch_size, verbose = False)"
   ]
  },
  {
   "cell_type": "code",
   "execution_count": 15,
   "metadata": {},
   "outputs": [
    {
     "data": {
      "image/png": "[encoded data removed]",
      "text/plain": [
       "<Figure size 432x288 with 1 Axes>"
      ]
     },
     "metadata": {
      "needs_background": "light"
     },
     "output_type": "display_data"
    },
    {
     "data": {
      "image/png": "[encoded data removed]",
      "text/plain": [
       "<Figure size 432x288 with 1 Axes>"
      ]
     },
     "metadata": {
      "needs_background": "light"
     },
     "output_type": "display_data"
    },
    {
     "data": {
      "image/png": "[encoded data removed]",
      "text/plain": [
       "<Figure size 432x288 with 1 Axes>"
      ]
     },
     "metadata": {
      "needs_background": "light"
     },
     "output_type": "display_data"
    }
   ],
   "source": [
    "generate_image_RBM(rbm, 3, 1000)"
   ]
  },
  {
   "cell_type": "markdown",
   "metadata": {},
   "source": [
    "# Using the RBM Class Implementation"
   ]
  },
  {
   "cell_type": "code",
   "execution_count": 16,
   "metadata": {},
   "outputs": [],
   "source": [
    "from RBM import RBM"
   ]
  },
  {
   "cell_type": "code",
   "execution_count": 17,
   "metadata": {},
   "outputs": [
    {
     "name": "stdout",
     "output_type": "stream",
     "text": [
      "Training successfully over.\n"
     ]
    }
   ],
   "source": [
    "x = lire_alphaDigits([3], mat_contents['dat'])\n",
    "iter_gradient = 1000\n",
    "epsilon = 0.1\n",
    "batch_size = 3\n",
    "rbm = RBM(320, 100)\n",
    "rbm.fit(x, iter_gradient, epsilon, batch_size, verbose = False)"
   ]
  },
  {
   "cell_type": "code",
   "execution_count": 18,
   "metadata": {},
   "outputs": [
    {
     "data": {
      "image/png": "[encoded data removed]",
      "text/plain": [
       "<Figure size 432x288 with 1 Axes>"
      ]
     },
     "metadata": {
      "needs_background": "light"
     },
     "output_type": "display_data"
    }
   ],
   "source": [
    "rbm.generate_image(1, 1000)"
   ]
  }
 ],
 "metadata": {
  "kernelspec": {
   "display_name": "Python 3",
   "language": "python",
   "name": "python3"
  },
  "language_info": {
   "codemirror_mode": {
    "name": "ipython",
    "version": 3
   },
   "file_extension": ".py",
   "mimetype": "text/x-python",
   "name": "python",
   "nbconvert_exporter": "python",
   "pygments_lexer": "ipython3",
   "version": "3.6.9"
  }
 },
 "nbformat": 4,
 "nbformat_minor": 2
}
